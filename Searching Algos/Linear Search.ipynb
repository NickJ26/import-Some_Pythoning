{
 "cells": [
  {
   "cell_type": "markdown",
   "metadata": {},
   "source": [
    "The Linear Search is the algorithm mostly chosen for short lists, because it’s simple and requires minimal code to implement. The linear search algorithm looks at the first list item to see whether you are searching for it and, if so, you are finished. If not, it looks at the next item and on through entire entries in the list."
   ]
  },
  {
   "cell_type": "markdown",
   "metadata": {},
   "source": [
    "A simple approach to perform linear search:\n",
    " 1. Start from the leftmost element of arr[] and one by one compare x with each element of arr[]\n",
    " 2. If x matches with an element, return the index.\n",
    " 3. If x doesn’t match with any of elements, return -1.\n"
   ]
  },
  {
   "cell_type": "code",
   "execution_count": 10,
   "metadata": {},
   "outputs": [
    {
     "name": "stdout",
     "output_type": "stream",
     "text": [
      "Enter the number you wanna search for in the list:19\n",
      "Element is present at index 7 , where the firt element in the list has an index 0\n"
     ]
    }
   ],
   "source": [
    "def search(arr, n, x): \n",
    "    for i in range (0, n): \n",
    "        if (arr[i] == x): \n",
    "            return i \n",
    "    return -1\n",
    "  \n",
    "\n",
    "arr = [ 2, 7, 4, 10, 40, 5, 17, 19, 21, 1, 26 ] \n",
    "x = int(input(\"Enter the number you wanna search for in the list:\"))\n",
    "n = len(arr) \n",
    "result = search(arr, n, x) \n",
    "if(result == -1): \n",
    "    print(\"Element is not present in list\") \n",
    "else: \n",
    "    print(\"Element is present at index\", result, \", where the firt element in the list has an index 0\") \n"
   ]
  },
  {
   "cell_type": "code",
   "execution_count": null,
   "metadata": {},
   "outputs": [],
   "source": []
  }
 ],
 "metadata": {
  "kernelspec": {
   "display_name": "Python 3",
   "language": "python",
   "name": "python3"
  },
  "language_info": {
   "codemirror_mode": {
    "name": "ipython",
    "version": 3
   },
   "file_extension": ".py",
   "mimetype": "text/x-python",
   "name": "python",
   "nbconvert_exporter": "python",
   "pygments_lexer": "ipython3",
   "version": "3.7.3"
  }
 },
 "nbformat": 4,
 "nbformat_minor": 2
}
