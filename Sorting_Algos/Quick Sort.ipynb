{
 "cells": [
  {
   "cell_type": "markdown",
   "metadata": {},
   "source": [
    "Quicksort uses divide and conquer to sort an array. Divide and conquer is a technique used for breaking algorithms down into subproblems, solving the subproblems, and then combining the results back together to solve the original problem. It can be helpful to think of this method as divide, conquer, and combine.\n",
    "\n",
    "Here are the divide, conquer, and combine steps that quicksort uses:\n",
    "\n",
    "###### Divide:\n",
    "\n",
    " . Pick a pivot element, A[q]A[q].\n",
    " \n",
    " . Partition, or rearrange, the array into two subarrays: \n",
    "   1. A[p, . . . ,q−1] such that all elements are less than A[q],A[q],and \n",
    "   2. A[q+1, . . .,r] such that all elements are greater than or equal to A[q]A[q].\n",
    "\n",
    "###### Conquer: \n",
    "Sort the subarrays A[p, \\ldots, q-1]A[p,…,q−1] and A[q+1, \\ldots, r]A[q+1,…,r] recursively with quicksort.\n",
    "\n",
    "###### Combine: \n",
    "No work is needed to combine the arrays because they are already sorted. "
   ]
  },
  {
   "cell_type": "raw",
   "metadata": {},
   "source": [
    "#Adapted from Geeksforgeeks"
   ]
  },
  {
   "cell_type": "code",
   "execution_count": 12,
   "metadata": {},
   "outputs": [],
   "source": [
    "def partition(arr,low,high): \n",
    "    i = ( low-1 )         # index of smaller element \n",
    "    pivot = arr[high]     # pivot \n",
    "  \n",
    "    for j in range(low , high): \n",
    "  \n",
    "        # If current element is smaller than the pivot \n",
    "        if   arr[j] < pivot: \n",
    "          \n",
    "            # increment index of smaller element \n",
    "            i = i+1 \n",
    "            arr[i],arr[j] = arr[j],arr[i] \n",
    "  \n",
    "    arr[i+1],arr[high] = arr[high],arr[i+1] \n",
    "    return ( i+1 ) \n",
    "\n",
    "def quickSort(arr,low,high): \n",
    "    if low < high: \n",
    "  \n",
    "        # pi is partitioning index, arr[p] is now at right place \n",
    "        pi = partition(arr,low,high) \n",
    "  \n",
    "        # Separately sort elements before partition and after partition \n",
    "        quickSort(arr, low, pi-1) \n",
    "        quickSort(arr, pi+1, high) \n",
    "  "
   ]
  },
  {
   "cell_type": "code",
   "execution_count": 13,
   "metadata": {},
   "outputs": [
    {
     "data": {
      "text/plain": [
       "[3, 9, 10, 27, 38, 43, 82]"
      ]
     },
     "execution_count": 13,
     "metadata": {},
     "output_type": "execute_result"
    }
   ],
   "source": [
    "a = [38, 27, 43, 3, 9, 82, 10]\n",
    "n = len(a) \n",
    "quickSort(a,0,n-1) \n",
    "a"
   ]
  },
  {
   "cell_type": "code",
   "execution_count": null,
   "metadata": {},
   "outputs": [],
   "source": []
  }
 ],
 "metadata": {
  "kernelspec": {
   "display_name": "Python 3",
   "language": "python",
   "name": "python3"
  },
  "language_info": {
   "codemirror_mode": {
    "name": "ipython",
    "version": 3
   },
   "file_extension": ".py",
   "mimetype": "text/x-python",
   "name": "python",
   "nbconvert_exporter": "python",
   "pygments_lexer": "ipython3",
   "version": "3.7.3"
  }
 },
 "nbformat": 4,
 "nbformat_minor": 2
}
