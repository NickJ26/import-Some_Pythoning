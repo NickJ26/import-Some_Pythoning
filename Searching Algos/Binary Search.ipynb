{
 "cells": [
  {
   "cell_type": "markdown",
   "metadata": {},
   "source": [
    "###### Binary Search: \n",
    "Search a sorted array by repeatedly dividing the search interval in half. Begin with an interval covering the whole array. If the value of the search key is less than the item in the middle of the interval, narrow the interval to the lower half. Otherwise narrow it to the upper half. Repeatedly check until the value is found or the interval is empty."
   ]
  },
  {
   "cell_type": "markdown",
   "metadata": {},
   "source": [
    "We basically ignore half of the elements just after one comparison.\n",
    "\n",
    " 1. Compare x with the middle element.\n",
    " 2. If x matches with middle element, we return the mid index.\n",
    " 3. Else If x is greater than the mid element, then x can only lie in right half subarray after the mid element. So we recur for right half.\n",
    " 4. Else (x is smaller) recur for the left half."
   ]
  },
  {
   "cell_type": "markdown",
   "metadata": {},
   "source": [
    "#### Recursive Approach:"
   ]
  },
  {
   "cell_type": "code",
   "execution_count": 11,
   "metadata": {},
   "outputs": [
    {
     "name": "stdout",
     "output_type": "stream",
     "text": [
      "Enter the number you wanna search for: 10\n",
      "Element is present at index  3  of the list, where index of first element is 0\n"
     ]
    }
   ],
   "source": [
    "def binarySearch (arr, l, r, x): \n",
    "  \n",
    "    # Check base case \n",
    "    if r >= l: \n",
    "  \n",
    "        mid = l + (r - l)//2\n",
    "  \n",
    "        # If element is present at the middle itself \n",
    "        if arr[mid] == x: \n",
    "            return mid \n",
    "          \n",
    "        # If element is smaller than mid, then it can only be present in left subarray \n",
    "        elif arr[mid] > x: \n",
    "            return binarySearch(arr, l, mid-1, x) #Recursive Calls\n",
    "  \n",
    "        # Else the element can only be present in right subarray \n",
    "        else: \n",
    "            return binarySearch(arr, mid + 1, r, x) \n",
    "  \n",
    "    else: \n",
    "        # Element is not present in the array \n",
    "        return -1\n",
    "\n",
    "\n",
    "arr = [ 2, 3, 4, 10, 40 ] \n",
    "x = int(input(\"Enter the number you wanna search for: \"))\n",
    "  \n",
    "# Function call \n",
    "result = binarySearch(arr, 0, (len(arr)-1), x) \n",
    "  \n",
    "if result != -1: \n",
    "    print (\"Element is present at index \", result, \" of the list, where index of first element is 0\") \n",
    "else: \n",
    "    print (\"Element is not present in array\")"
   ]
  },
  {
   "cell_type": "markdown",
   "metadata": {},
   "source": [
    "#### Iterative Approach:"
   ]
  },
  {
   "cell_type": "code",
   "execution_count": 12,
   "metadata": {},
   "outputs": [
    {
     "name": "stdout",
     "output_type": "stream",
     "text": [
      "Enter the number you wanna search for: 10\n",
      "Element is present at index  3  of the list, where index of first element is 0\n"
     ]
    }
   ],
   "source": [
    "def binarySearch(arr, l, r, x): \n",
    "  \n",
    "    while l <= r: \n",
    "  \n",
    "        mid = l + (r - l)//2; \n",
    "          \n",
    "        # Check if x is present at mid \n",
    "        if arr[mid] == x: \n",
    "            return mid \n",
    "  \n",
    "        # If x is greater, ignore left half \n",
    "        elif arr[mid] < x: \n",
    "            l = mid + 1\n",
    "  \n",
    "        # If x is smaller, ignore right half \n",
    "        else: \n",
    "            r = mid - 1\n",
    "      \n",
    "    # If we reach here, then the element was not present \n",
    "    return -1\n",
    "\n",
    "\n",
    "arr = [ 2, 3, 4, 10, 40 ] \n",
    "x = int(input(\"Enter the number you wanna search for: \"))\n",
    "  \n",
    "# Function call \n",
    "result = binarySearch(arr, 0, (len(arr)-1), x) \n",
    "  \n",
    "if result != -1: \n",
    "    print (\"Element is present at index \", result, \" of the list, where index of first element is 0\") \n",
    "else: \n",
    "    print (\"Element is not present in array\")"
   ]
  },
  {
   "cell_type": "code",
   "execution_count": null,
   "metadata": {},
   "outputs": [],
   "source": []
  }
 ],
 "metadata": {
  "kernelspec": {
   "display_name": "Python 3",
   "language": "python",
   "name": "python3"
  },
  "language_info": {
   "codemirror_mode": {
    "name": "ipython",
    "version": 3
   },
   "file_extension": ".py",
   "mimetype": "text/x-python",
   "name": "python",
   "nbconvert_exporter": "python",
   "pygments_lexer": "ipython3",
   "version": "3.7.3"
  }
 },
 "nbformat": 4,
 "nbformat_minor": 2
}
