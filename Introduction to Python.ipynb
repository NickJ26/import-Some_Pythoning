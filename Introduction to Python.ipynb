{
 "cells": [
  {
   "cell_type": "markdown",
   "metadata": {},
   "source": [
    "# Introduction to Python"
   ]
  },
  {
   "cell_type": "markdown",
   "metadata": {},
   "source": [
    "## Printing"
   ]
  },
  {
   "cell_type": "markdown",
   "metadata": {},
   "source": [
    "For printing anything in Python, we can use the \"print\" statement."
   ]
  },
  {
   "cell_type": "code",
   "execution_count": 2,
   "metadata": {},
   "outputs": [
    {
     "name": "stdout",
     "output_type": "stream",
     "text": [
      "23\n"
     ]
    }
   ],
   "source": [
    "print(23)"
   ]
  },
  {
   "cell_type": "code",
   "execution_count": 3,
   "metadata": {},
   "outputs": [
    {
     "name": "stdout",
     "output_type": "stream",
     "text": [
      "hello, world\n"
     ]
    }
   ],
   "source": [
    "print(\"hello, world\")"
   ]
  },
  {
   "cell_type": "markdown",
   "metadata": {},
   "source": [
    "We can print multiple objects at the same time by using commas."
   ]
  },
  {
   "cell_type": "code",
   "execution_count": 4,
   "metadata": {},
   "outputs": [
    {
     "name": "stdout",
     "output_type": "stream",
     "text": [
      "hello world\n"
     ]
    }
   ],
   "source": [
    "print(\"hello\", \"world\")"
   ]
  },
  {
   "cell_type": "code",
   "execution_count": 5,
   "metadata": {},
   "outputs": [
    {
     "name": "stdout",
     "output_type": "stream",
     "text": [
      "3 4 hello 5\n"
     ]
    }
   ],
   "source": [
    "print(3, 4, \"hello\", 5)"
   ]
  },
  {
   "cell_type": "markdown",
   "metadata": {},
   "source": [
    "## Variables\n"
   ]
  },
  {
   "cell_type": "code",
   "execution_count": 6,
   "metadata": {},
   "outputs": [
    {
     "name": "stdout",
     "output_type": "stream",
     "text": [
      "My value is 5.4\n"
     ]
    }
   ],
   "source": [
    "a = 5.4\n",
    "b = \"My value is\"\n",
    "print(b, a)"
   ]
  },
  {
   "cell_type": "markdown",
   "metadata": {},
   "source": [
    "Once a variable is defined, you can use it anywhere in the file."
   ]
  },
  {
   "cell_type": "code",
   "execution_count": 7,
   "metadata": {},
   "outputs": [
    {
     "name": "stdout",
     "output_type": "stream",
     "text": [
      "5.4\n"
     ]
    }
   ],
   "source": [
    "print(a)"
   ]
  },
  {
   "cell_type": "markdown",
   "metadata": {},
   "source": [
    "## Operations\n"
   ]
  },
  {
   "cell_type": "markdown",
   "metadata": {},
   "source": [
    "The basic operations for addition, subtraction, multiplication and division are illustrated below."
   ]
  },
  {
   "cell_type": "code",
   "execution_count": 8,
   "metadata": {},
   "outputs": [
    {
     "name": "stdout",
     "output_type": "stream",
     "text": [
      "103 97 300 33.333333333333336\n"
     ]
    }
   ],
   "source": [
    "x = 100\n",
    "y = 3\n",
    "z1 = x + y\n",
    "z2 = x - y\n",
    "z3 = x * y\n",
    "z4 = x/y\n",
    "print(z1, z2, z3, z4)"
   ]
  },
  {
   "cell_type": "markdown",
   "metadata": {},
   "source": [
    "### Floating Point Division"
   ]
  },
  {
   "cell_type": "markdown",
   "metadata": {},
   "source": [
    "Numbers are of two types: integers and floating-point numbers (fractional numbers).\n",
    "\n",
    "When one integer divides another, only the quotient is returned:"
   ]
  },
  {
   "cell_type": "code",
   "execution_count": 9,
   "metadata": {},
   "outputs": [
    {
     "name": "stdout",
     "output_type": "stream",
     "text": [
      "3\n"
     ]
    }
   ],
   "source": [
    "print(22//7) # Integer division"
   ]
  },
  {
   "cell_type": "markdown",
   "metadata": {},
   "source": [
    "Note : The $#$ sign indicates a comment and anything that comes after a $#$ sign is not evaluated.\n",
    "\n",
    "In contrast, when one of the numbers is a floating point number, Python returns the full decimal result:"
   ]
  },
  {
   "cell_type": "code",
   "execution_count": 12,
   "metadata": {},
   "outputs": [
    {
     "name": "stdout",
     "output_type": "stream",
     "text": [
      "3.142857142857143\n"
     ]
    }
   ],
   "source": [
    "print(22/7) # floating point division"
   ]
  },
  {
   "cell_type": "markdown",
   "metadata": {},
   "source": [
    "The operator $\\%$ is used to compute the remainder, as shown below:"
   ]
  },
  {
   "cell_type": "code",
   "execution_count": 13,
   "metadata": {},
   "outputs": [
    {
     "name": "stdout",
     "output_type": "stream",
     "text": [
      "The remainder when x is divided by y is 1\n"
     ]
    }
   ],
   "source": [
    "z6 = x % y\n",
    "print(\"The remainder when x is divided by y is\", z6)"
   ]
  },
  {
   "cell_type": "markdown",
   "metadata": {},
   "source": [
    "## Questions\n",
    "1) Compute $x^2 + y^2$ and print its value.\n",
    "\n",
    "2) Print the average of $x$ and $y$\n",
    "\n",
    "3) Compute the remainder when 1000 is divided by 7."
   ]
  },
  {
   "cell_type": "code",
   "execution_count": 20,
   "metadata": {},
   "outputs": [
    {
     "name": "stdout",
     "output_type": "stream",
     "text": [
      "10009\n"
     ]
    }
   ],
   "source": [
    "# Question 1\n",
    "z7 = ((x*x) + (y*y))\n",
    "print(z7)"
   ]
  },
  {
   "cell_type": "code",
   "execution_count": 21,
   "metadata": {},
   "outputs": [
    {
     "name": "stdout",
     "output_type": "stream",
     "text": [
      "51.5\n"
     ]
    }
   ],
   "source": [
    "# Question 2\n",
    "z8 = ((x + y) / 2)\n",
    "print(z8)"
   ]
  },
  {
   "cell_type": "code",
   "execution_count": 22,
   "metadata": {},
   "outputs": [
    {
     "name": "stdout",
     "output_type": "stream",
     "text": [
      "6\n"
     ]
    }
   ],
   "source": [
    "# Question 3\n",
    "print( 1000 % 7 )"
   ]
  },
  {
   "cell_type": "markdown",
   "metadata": {},
   "source": [
    "## Functions"
   ]
  },
  {
   "cell_type": "code",
   "execution_count": 23,
   "metadata": {},
   "outputs": [
    {
     "name": "stdout",
     "output_type": "stream",
     "text": [
      "11\n"
     ]
    }
   ],
   "source": [
    "def f(n):\n",
    "    return n+1\n",
    "\n",
    "print(f(10))"
   ]
  },
  {
   "cell_type": "code",
   "execution_count": 24,
   "metadata": {},
   "outputs": [
    {
     "name": "stdout",
     "output_type": "stream",
     "text": [
      "145\n"
     ]
    }
   ],
   "source": [
    "def g(n):\n",
    "    return n*n + 1\n",
    "\n",
    "print(g(12))"
   ]
  },
  {
   "cell_type": "markdown",
   "metadata": {},
   "source": [
    "### Functions with more than one arguments"
   ]
  },
  {
   "cell_type": "code",
   "execution_count": 25,
   "metadata": {},
   "outputs": [
    {
     "name": "stdout",
     "output_type": "stream",
     "text": [
      "15\n",
      "50\n"
     ]
    }
   ],
   "source": [
    "def add(x, y):\n",
    "    return x+y\n",
    "\n",
    "def sum_squares(x, y, z):\n",
    "    return x*x + y*y + z*z\n",
    "\n",
    "print(add(10, 5))\n",
    "print(sum_squares(3, 4, 5))"
   ]
  },
  {
   "cell_type": "markdown",
   "metadata": {},
   "source": [
    "## Conditions"
   ]
  },
  {
   "cell_type": "markdown",
   "metadata": {},
   "source": [
    "The main conditional operator in python is _if/elif/else_ statement. There may be multiple _elif_ parts and a single _else_ part. Both _elif_ and _else_ are optional "
   ]
  },
  {
   "cell_type": "code",
   "execution_count": 26,
   "metadata": {},
   "outputs": [
    {
     "name": "stdout",
     "output_type": "stream",
     "text": [
      "My value is 10\n"
     ]
    }
   ],
   "source": [
    "a = 10*2/4/2*4\n",
    "if a == 10:\n",
    "    print(\"My value is 10\")\n",
    "else:\n",
    "    print(\"My value is not 10\")"
   ]
  },
  {
   "cell_type": "markdown",
   "metadata": {},
   "source": [
    "### Question\n",
    "6) Change the value of $a$ and run the code again.\n",
    "  (Try it yourselves)"
   ]
  },
  {
   "cell_type": "code",
   "execution_count": null,
   "metadata": {},
   "outputs": [],
   "source": [
    "#Q6"
   ]
  },
  {
   "cell_type": "code",
   "execution_count": 27,
   "metadata": {},
   "outputs": [
    {
     "name": "stdout",
     "output_type": "stream",
     "text": [
      "My value is equal than 10\n"
     ]
    }
   ],
   "source": [
    "b = 10\n",
    "if b < 10:\n",
    "    print(\"My value is less than 10\")\n",
    "elif b > 10:\n",
    "    print(\"My value is greater than 10\")\n",
    "else:\n",
    "    print(\"My value is equal than 10\")"
   ]
  },
  {
   "cell_type": "markdown",
   "metadata": {},
   "source": [
    "### Question\n",
    "7) Run the code for various values of $b$. (Try it yourselves)"
   ]
  },
  {
   "cell_type": "code",
   "execution_count": null,
   "metadata": {},
   "outputs": [],
   "source": [
    "#Q7"
   ]
  },
  {
   "cell_type": "markdown",
   "metadata": {},
   "source": [
    "## Conditions inside functions"
   ]
  },
  {
   "cell_type": "code",
   "execution_count": 29,
   "metadata": {},
   "outputs": [
    {
     "name": "stdout",
     "output_type": "stream",
     "text": [
      "My value is less than or equal to 100\n",
      "My value is less than or equal to 100\n",
      "My value is greater than 100\n"
     ]
    }
   ],
   "source": [
    "def check_value(n):\n",
    "    if n <= 100:\n",
    "        print(\"My value is less than or equal to 100\")\n",
    "    else:\n",
    "        print(\"My value is greater than 100\")\n",
    "        \n",
    "        \n",
    "check_value(80)\n",
    "check_value(100)\n",
    "check_value(500)\n",
    "    "
   ]
  },
  {
   "cell_type": "code",
   "execution_count": 30,
   "metadata": {},
   "outputs": [
    {
     "data": {
      "text/plain": [
       "5"
      ]
     },
     "execution_count": 30,
     "metadata": {},
     "output_type": "execute_result"
    }
   ],
   "source": [
    "def maximum2(x, y):\n",
    "    if x >= y:\n",
    "        return x\n",
    "    else:\n",
    "        return y\n",
    "    \n",
    "maximum2(5,5)\n",
    "\n",
    "    "
   ]
  },
  {
   "cell_type": "markdown",
   "metadata": {},
   "source": [
    "## Questions\n",
    "8) Try out maximum2 for various inputs.\n",
    "\n",
    "9) Write a function maximum3 which will return the maximum of three arguments $x, y, z$.\n",
    "\n",
    "10) Write a function which will return the absolute value of a number.\n",
    "\n",
    "11) Write a function which takes a number $n$ as argument and checks whether it is even or odd. If $n$ is odd, return $3n+1$. If $n$ is even, return $n/2$.\n"
   ]
  },
  {
   "cell_type": "code",
   "execution_count": 31,
   "metadata": {},
   "outputs": [
    {
     "data": {
      "text/plain": [
       "5"
      ]
     },
     "execution_count": 31,
     "metadata": {},
     "output_type": "execute_result"
    }
   ],
   "source": [
    "# Question 8\n",
    "def maximum2(x, y):\n",
    "    if x >= y:\n",
    "        return x\n",
    "    else:\n",
    "        return y\n",
    "    \n",
    "maximum2(5,5)"
   ]
  },
  {
   "cell_type": "code",
   "execution_count": 32,
   "metadata": {},
   "outputs": [
    {
     "name": "stdout",
     "output_type": "stream",
     "text": [
      "11\n"
     ]
    }
   ],
   "source": [
    "# Question 9\n",
    "def maximum3(x, y, z):\n",
    "    if x >= y:\n",
    "        if x >= z:\n",
    "            return x\n",
    "        elif y >= z:\n",
    "            return y\n",
    "        else:\n",
    "            return z\n",
    "    elif y >= z:\n",
    "        return y\n",
    "    else:\n",
    "        return z\n",
    "    \n",
    "print (maximum3(4,1,11))"
   ]
  },
  {
   "cell_type": "code",
   "execution_count": 33,
   "metadata": {},
   "outputs": [
    {
     "name": "stdout",
     "output_type": "stream",
     "text": [
      "10.2636389181\n"
     ]
    }
   ],
   "source": [
    "# Question 10\n",
    "a = -10.2636389181\n",
    "print (abs (a))"
   ]
  },
  {
   "cell_type": "code",
   "execution_count": 34,
   "metadata": {},
   "outputs": [
    {
     "data": {
      "text/plain": [
       "10"
      ]
     },
     "execution_count": 34,
     "metadata": {},
     "output_type": "execute_result"
    }
   ],
   "source": [
    "#Question 11\n",
    "def Q11(n):\n",
    "    if (n%2) == 0:\n",
    "        return (n//2) #or return (n/2)\n",
    "    else:\n",
    "        return ((3*n)+1)\n",
    "\n",
    "Q11(3)"
   ]
  },
  {
   "cell_type": "markdown",
   "metadata": {},
   "source": [
    "# Updating Variables"
   ]
  },
  {
   "cell_type": "code",
   "execution_count": 35,
   "metadata": {},
   "outputs": [
    {
     "name": "stdout",
     "output_type": "stream",
     "text": [
      "a is  10\n",
      "now a is 15\n",
      "now a is 30\n",
      "now a is 1000\n"
     ]
    }
   ],
   "source": [
    "a = 10\n",
    "print(\"a is \", a)\n",
    "a = a + 5\n",
    "print(\"now a is\", a)\n",
    "a = a * 2\n",
    "print(\"now a is\", a)\n",
    "a = a * a + 100\n",
    "print(\"now a is\", a)"
   ]
  },
  {
   "cell_type": "markdown",
   "metadata": {},
   "source": [
    "# Repeating Stuff or Loops"
   ]
  },
  {
   "cell_type": "code",
   "execution_count": 37,
   "metadata": {},
   "outputs": [
    {
     "name": "stdout",
     "output_type": "stream",
     "text": [
      "The value of 'i' is: 0\n",
      "The value of 'i' is: 1\n",
      "The value of 'i' is: 2\n",
      "The value of 'i' is: 3\n",
      "The value of 'i' is: 4\n"
     ]
    }
   ],
   "source": [
    "i = 0\n",
    "while i < 5:\n",
    "    print(\"The value of 'i' is:\", i)\n",
    "    i = i + 1"
   ]
  },
  {
   "cell_type": "markdown",
   "metadata": {},
   "source": [
    "Now we will see a program to compute the sum of integers from 1 to 100."
   ]
  },
  {
   "cell_type": "code",
   "execution_count": 42,
   "metadata": {},
   "outputs": [
    {
     "name": "stdout",
     "output_type": "stream",
     "text": [
      "5050\n"
     ]
    }
   ],
   "source": [
    "s = 0\n",
    "i = 1\n",
    "while i <= 100:\n",
    "    s = s + i\n",
    "    i = i + 1\n",
    "print(s)"
   ]
  },
  {
   "cell_type": "markdown",
   "metadata": {},
   "source": [
    "We will generalize the above code by writing a function."
   ]
  },
  {
   "cell_type": "code",
   "execution_count": 43,
   "metadata": {},
   "outputs": [
    {
     "name": "stdout",
     "output_type": "stream",
     "text": [
      "5050\n"
     ]
    }
   ],
   "source": [
    "def sum_first_n(n):\n",
    "    s = 0\n",
    "    i = 1\n",
    "    while i <= n:\n",
    "        s += i     # See the Remark below\n",
    "        i += 1\n",
    "    return s\n",
    "\n",
    "print (sum_first_n(100))"
   ]
  },
  {
   "cell_type": "markdown",
   "metadata": {},
   "source": [
    "### Remark\n",
    "The statement $x$ += $y$ is equivalent to $x = x + y$"
   ]
  },
  {
   "cell_type": "code",
   "execution_count": 62,
   "metadata": {},
   "outputs": [
    {
     "name": "stdout",
     "output_type": "stream",
     "text": [
      "element:  5\n",
      "element:  2\n",
      "element:  3\n",
      "element:  12\n"
     ]
    }
   ],
   "source": [
    "for i in b:\n",
    "    print(\"element: \", i)"
   ]
  },
  {
   "cell_type": "code",
   "execution_count": 63,
   "metadata": {},
   "outputs": [
    {
     "name": "stdout",
     "output_type": "stream",
     "text": [
      "index:  3\n",
      "index:  4\n",
      "index:  5\n",
      "index:  6\n",
      "index:  7\n",
      "index:  8\n",
      "index:  9\n"
     ]
    }
   ],
   "source": [
    "# loop for 10 times:\n",
    "for i in range(3,10):\n",
    "    print(\"index: \", i)"
   ]
  },
  {
   "cell_type": "code",
   "execution_count": 64,
   "metadata": {},
   "outputs": [
    {
     "name": "stdout",
     "output_type": "stream",
     "text": [
      "c =  11 d =  101\n",
      "c =  12 d =  102\n",
      "c =  13 d =  103\n",
      "c =  14 d =  104\n"
     ]
    }
   ],
   "source": [
    "# Iterate through two lists:\n",
    "c = [11, 12, 13, 14]\n",
    "d = [101, 102, 103, 104]\n",
    "\n",
    "for i, j in zip(c, d):\n",
    "    print(\"c = \", i, \"d = \", j)"
   ]
  },
  {
   "cell_type": "code",
   "execution_count": 65,
   "metadata": {},
   "outputs": [
    {
     "name": "stdout",
     "output_type": "stream",
     "text": [
      "Entry number  0 is  11\n",
      "Entry number  1 is  12\n",
      "Entry number  2 is  13\n",
      "Entry number  3 is  14\n"
     ]
    }
   ],
   "source": [
    "# Iterate through one list, but also get an index:\n",
    "for i, k in enumerate(c):\n",
    "    print(\"Entry number \", i, \"is \", k)"
   ]
  },
  {
   "cell_type": "code",
   "execution_count": 68,
   "metadata": {},
   "outputs": [
    {
     "data": {
      "text/plain": [
       "25"
      ]
     },
     "execution_count": 68,
     "metadata": {},
     "output_type": "execute_result"
    }
   ],
   "source": [
    "# A function to compute the sum of elements of a list\n",
    "def mysum(a):\n",
    "    s = 0\n",
    "    for x in a:\n",
    "        s += x\n",
    "    return s\n",
    "\n",
    "\n",
    "mysum([5, 7, 13])"
   ]
  },
  {
   "cell_type": "markdown",
   "metadata": {},
   "source": [
    "### Questions\n",
    "12) Write a function to find the sum of first $n$ natural numbers. Accept $n$ as an input parameter. (Hint: use the range function)\n",
    "\n",
    "13) Write a function which takes in a list of numbers and returns the average.\n",
    "\n",
    "14) Write a function which takes in a list of numbers and returns both its minimum and maximum. (Hint: use a tuple)\n",
    "\n",
    "15) Write a function which takes in a list and an element and searches for the element in the list. If the element is present in the list, return its index. Otherwise, return $-1$.\n",
    "\n"
   ]
  },
  {
   "cell_type": "code",
   "execution_count": 70,
   "metadata": {},
   "outputs": [
    {
     "data": {
      "text/plain": [
       "15"
      ]
     },
     "execution_count": 70,
     "metadata": {},
     "output_type": "execute_result"
    }
   ],
   "source": [
    "# Q12\n",
    "def Sum(n):\n",
    "    s = 0\n",
    "    for i in range(0,n+1):\n",
    "        s += i\n",
    "    return s\n",
    "\n",
    "Sum(5)"
   ]
  },
  {
   "cell_type": "code",
   "execution_count": 71,
   "metadata": {},
   "outputs": [
    {
     "data": {
      "text/plain": [
       "3.0"
      ]
     },
     "execution_count": 71,
     "metadata": {},
     "output_type": "execute_result"
    }
   ],
   "source": [
    "# Q13\n",
    "def avg(n):\n",
    "    s = 0\n",
    "    for i in range(n+1):\n",
    "        s += i\n",
    "    avg = s/i\n",
    "    \n",
    "    return avg\n",
    "\n",
    "avg(5)"
   ]
  },
  {
   "cell_type": "code",
   "execution_count": 72,
   "metadata": {},
   "outputs": [
    {
     "name": "stdout",
     "output_type": "stream",
     "text": [
      "(1, 6)\n"
     ]
    }
   ],
   "source": [
    "# Q14\n",
    "def minmax(n):\n",
    "    s = l = n[0]\n",
    "    for i in n:\n",
    "        if i <= s:\n",
    "            s = i\n",
    "        if i >= l:\n",
    "            l = i\n",
    "    z = (s,l)\n",
    "    return z\n",
    "\n",
    "print(minmax([3,5,6,1]))\n",
    "        "
   ]
  },
  {
   "cell_type": "code",
   "execution_count": 83,
   "metadata": {},
   "outputs": [
    {
     "name": "stdout",
     "output_type": "stream",
     "text": [
      "There is no such number in the list !\n"
     ]
    }
   ],
   "source": [
    "# Q15\n",
    "def searchlist(n,a):\n",
    "    for i,j in enumerate(n):\n",
    "        if j is a:\n",
    "            print(\"Its index is :\",i)\n",
    "            return\n",
    "    print('There is no such number in the list !')\n",
    "\n",
    "searchlist([1,2,3,4,5],7)\n",
    "    "
   ]
  },
  {
   "cell_type": "code",
   "execution_count": null,
   "metadata": {},
   "outputs": [],
   "source": []
  },
  {
   "cell_type": "markdown",
   "metadata": {},
   "source": [
    "# Please try to do the questions below yourselves and then move forward to check their anwers.\n",
    "\n",
    "### Left a Blank Cell after the questions purposely to help you not to check the answers even by mistake!"
   ]
  },
  {
   "cell_type": "markdown",
   "metadata": {},
   "source": [
    "# Questions\n",
    "16) Factorial of a number $n$ is the product of all natural numbers from 1 upto $n$. For example, factorial(1) is 1, factorial(2) is 2 and factorial(3) is 6. Write a function to compute the factorial of a number.\n",
    "\n",
    "17) Write a function to compute the sum of first $n$ odd numbers. \n",
    "\n",
    "18) Fibonacci numbers are $1, 1, 2, 3, 5, 8, 13, 21, 34, 55, \\dots$, where every number is the sum of the previous two fibonacci numbers. Write a function to compute the $n^\\text{th}$ Fibonacci number.\n",
    "\n",
    "19) A prime number is an integer whose only factors are $1$ and the number itself. Write a function to check primality of its input. If the number is a prime, return _True_. Otherwise, return _False_."
   ]
  },
  {
   "cell_type": "code",
   "execution_count": null,
   "metadata": {},
   "outputs": [],
   "source": [
    "\n",
    "\n",
    "\n",
    "\n",
    "\n",
    "\n",
    "\n",
    "\n",
    "\n",
    "\n",
    "\n",
    "\n",
    "\n",
    "\n",
    "\n",
    "\n",
    "\n",
    "\n",
    "\n",
    "\n",
    "\n",
    "\n",
    "\n",
    "\n",
    "\n",
    "\n",
    "\n",
    "\n",
    "\n",
    "\n",
    "\n",
    "\n",
    "\n",
    "\n",
    "\n",
    "\n",
    "\n",
    "\n",
    "\n",
    "\n",
    "\n",
    "\n",
    "\n",
    "\n",
    "\n",
    "\n",
    "\n",
    "\n",
    "\n",
    "\n",
    "\n",
    "\n",
    "\n",
    "\n",
    "\n",
    "\n",
    "\n",
    "\n",
    "\n",
    "\n",
    "\n",
    "\n",
    "\n",
    "\n",
    "\n",
    "\n",
    "\n",
    "\n",
    "\n",
    "\n",
    "\n",
    "\n",
    "\n",
    "\n",
    "\n",
    "\n",
    "\n",
    "\n",
    "\n",
    "\n",
    "\n",
    "\n",
    "\n",
    "\n",
    "\n",
    "\n"
   ]
  },
  {
   "cell_type": "code",
   "execution_count": 44,
   "metadata": {},
   "outputs": [
    {
     "data": {
      "text/plain": [
       "3628800"
      ]
     },
     "execution_count": 44,
     "metadata": {},
     "output_type": "execute_result"
    }
   ],
   "source": [
    "# Question 16\n",
    "def Factorial(n):\n",
    "    if n == 0:\n",
    "        return 1 \n",
    "    else:\n",
    "        i = 1  \n",
    "        s = 1\n",
    "        while i<= n:\n",
    "            s *= i\n",
    "            i += 1\n",
    "    return s\n",
    "\n",
    "Factorial(10)"
   ]
  },
  {
   "cell_type": "code",
   "execution_count": 49,
   "metadata": {},
   "outputs": [
    {
     "data": {
      "text/plain": [
       "49"
      ]
     },
     "execution_count": 49,
     "metadata": {},
     "output_type": "execute_result"
    }
   ],
   "source": [
    "# Question 17\n",
    "def SumofNoddnos(n):\n",
    "    s = 0\n",
    "    i = 1\n",
    "    while i<= (2*n-1):\n",
    "        s += i\n",
    "        i += 2  # updating i by 2 making it odd every time it gets updated, as it starts from 1\n",
    "    return s\n",
    "\n",
    "SumofNoddnos(7)\n"
   ]
  },
  {
   "cell_type": "code",
   "execution_count": 50,
   "metadata": {},
   "outputs": [
    {
     "data": {
      "text/plain": [
       "49"
      ]
     },
     "execution_count": 50,
     "metadata": {},
     "output_type": "execute_result"
    }
   ],
   "source": [
    "#Question 12 using a shortcut\n",
    "#To those who dont know sum of first n odd numbers is n^2 therfore:\n",
    "def SumofNoddNos(n):\n",
    "    return n**2 #returs n^2\n",
    "SumofNoddNos(7)"
   ]
  },
  {
   "cell_type": "code",
   "execution_count": 51,
   "metadata": {},
   "outputs": [
    {
     "data": {
      "text/plain": [
       "34"
      ]
     },
     "execution_count": 51,
     "metadata": {},
     "output_type": "execute_result"
    }
   ],
   "source": [
    "# Question 18\n",
    "def Fibonacci(n):\n",
    "    if n <= 0:\n",
    "        print(\"invalid input\")\n",
    "    elif n == 1:\n",
    "        return 1\n",
    "    elif n == 2:\n",
    "        return 1\n",
    "    else:\n",
    "        return Fibonacci(n-1) + Fibonacci(n-2)\n",
    "\n",
    "Fibonacci (9)"
   ]
  },
  {
   "cell_type": "code",
   "execution_count": 118,
   "metadata": {},
   "outputs": [
    {
     "name": "stdout",
     "output_type": "stream",
     "text": [
      "False\n"
     ]
    }
   ],
   "source": [
    "#Q19\n",
    "def prime(n):\n",
    "    for i in range(2,n):\n",
    "        if n%i is 0:\n",
    "            return(\"False\")\n",
    "    return(\"True\")\n",
    "\n",
    "print(prime(4))"
   ]
  },
  {
   "cell_type": "code",
   "execution_count": null,
   "metadata": {},
   "outputs": [],
   "source": []
  },
  {
   "cell_type": "markdown",
   "metadata": {},
   "source": [
    "# Lists"
   ]
  },
  {
   "cell_type": "code",
   "execution_count": 55,
   "metadata": {},
   "outputs": [
    {
     "name": "stdout",
     "output_type": "stream",
     "text": [
      "a =  [] b =  [5, 2, 3]\n"
     ]
    }
   ],
   "source": [
    "a = []\n",
    "b = [1, 2, 3]\n",
    "b[0] = 5\n",
    "\n",
    "print(\"a = \", a, \"b = \", b)"
   ]
  },
  {
   "cell_type": "code",
   "execution_count": 56,
   "metadata": {},
   "outputs": [
    {
     "name": "stdout",
     "output_type": "stream",
     "text": [
      "a =  [10] b =  [5, 2, 3, 12]\n"
     ]
    }
   ],
   "source": [
    "a.append(10)\n",
    "b.append(12)\n",
    "\n",
    "print(\"a = \", a, \"b = \", b)"
   ]
  },
  {
   "cell_type": "code",
   "execution_count": 57,
   "metadata": {},
   "outputs": [
    {
     "data": {
      "text/plain": [
       "4"
      ]
     },
     "execution_count": 57,
     "metadata": {},
     "output_type": "execute_result"
    }
   ],
   "source": [
    "# Length of a list\n",
    "len(b)"
   ]
  },
  {
   "cell_type": "code",
   "execution_count": 58,
   "metadata": {},
   "outputs": [
    {
     "data": {
      "text/plain": [
       "0"
      ]
     },
     "execution_count": 58,
     "metadata": {},
     "output_type": "execute_result"
    }
   ],
   "source": [
    "len([])"
   ]
  },
  {
   "cell_type": "markdown",
   "metadata": {},
   "source": [
    "### Creating Lists"
   ]
  },
  {
   "cell_type": "code",
   "execution_count": 84,
   "metadata": {},
   "outputs": [],
   "source": [
    "# Let us create a function that accepts a list of numbers and returns a list of the squares of those numbers\n",
    "def squares(numbers):\n",
    "    squares = [] # Intialize the list\n",
    "    for num in numbers:\n",
    "        squares.append( num * num )\n",
    "    return squares"
   ]
  },
  {
   "cell_type": "code",
   "execution_count": 85,
   "metadata": {},
   "outputs": [
    {
     "data": {
      "text/plain": [
       "[4, 49, 169, 1, 16]"
      ]
     },
     "execution_count": 85,
     "metadata": {},
     "output_type": "execute_result"
    }
   ],
   "source": [
    "squares([2, 7, 13, 1, 4])"
   ]
  },
  {
   "cell_type": "markdown",
   "metadata": {},
   "source": [
    "## Tuples"
   ]
  },
  {
   "cell_type": "markdown",
   "metadata": {},
   "source": [
    "Tuples are similar to lists, but they are immutable i.e If you try to change an element of a tuple, you will get an error."
   ]
  },
  {
   "cell_type": "code",
   "execution_count": 59,
   "metadata": {},
   "outputs": [
    {
     "name": "stdout",
     "output_type": "stream",
     "text": [
      "3.2\n",
      "world\n"
     ]
    }
   ],
   "source": [
    "r = (3.2, 56)\n",
    "print(r[0])\n",
    "\n",
    "s = (\"hello\", \"world\")\n",
    "print(s[1])"
   ]
  },
  {
   "cell_type": "code",
   "execution_count": 61,
   "metadata": {},
   "outputs": [
    {
     "ename": "TypeError",
     "evalue": "'tuple' object does not support item assignment",
     "output_type": "error",
     "traceback": [
      "\u001b[1;31m---------------------------------------------------------------------------\u001b[0m",
      "\u001b[1;31mTypeError\u001b[0m                                 Traceback (most recent call last)",
      "\u001b[1;32m<ipython-input-61-05d420e604cb>\u001b[0m in \u001b[0;36m<module>\u001b[1;34m\u001b[0m\n\u001b[1;32m----> 1\u001b[1;33m \u001b[0mr\u001b[0m\u001b[1;33m[\u001b[0m\u001b[1;36m1\u001b[0m\u001b[1;33m]\u001b[0m \u001b[1;33m=\u001b[0m \u001b[1;36m190\u001b[0m \u001b[1;31m#will give an error\u001b[0m\u001b[1;33m\u001b[0m\u001b[1;33m\u001b[0m\u001b[0m\n\u001b[0m",
      "\u001b[1;31mTypeError\u001b[0m: 'tuple' object does not support item assignment"
     ]
    }
   ],
   "source": [
    "r[1] = 190 #will give an error"
   ]
  },
  {
   "cell_type": "markdown",
   "metadata": {},
   "source": [
    "### Questions\n",
    "\n",
    "20) Write a function which accepts three lists and returns a list of sums of the corresponding elements. If the inputs are [3, 1, 3], [1, 4, 8], [1, 1, 2], the output should be [5, 6, 13]. \n",
    "\n",
    "21) (harder) In the previous question, if the lists are of unequal lengths, what happens? Change your program to make sure that even if some of the lists are exhausted, the output continues with the sum of the elements of the rest of the lists.\n",
    "\n",
    "22) Write a function which accepts a list of numbers and a threshold number. The function returns a new list containing 1s and 0s. The $i$th entry of the new list is $1$ if the $i$th entry of the old list is greater than or equal to threshold, and $0$ otherwise. An example: if the inputs are $[10, 2, 5, 8]$ and if the threshold is $5$, the output should be $[1, 0, 1, 1]$."
   ]
  },
  {
   "cell_type": "code",
   "execution_count": 119,
   "metadata": {},
   "outputs": [
    {
     "name": "stdout",
     "output_type": "stream",
     "text": [
      "[5, 6, 13]\n"
     ]
    }
   ],
   "source": [
    "def Q20(l,m,n):\n",
    "    s = []\n",
    "    for i in range (len(l)):\n",
    "        s.append(l[i]+m[i]+n[i])       \n",
    "    return s\n",
    "\n",
    "print (Q5([3,1,3],[1,4,8],[1,1,2]))"
   ]
  },
  {
   "cell_type": "code",
   "execution_count": 120,
   "metadata": {},
   "outputs": [
    {
     "name": "stdout",
     "output_type": "stream",
     "text": [
      "[5, 6, 13, 5]\n"
     ]
    }
   ],
   "source": [
    "def Q21(l,m,n):\n",
    "    s = [0] * max(len(l), len(m), len(n))\n",
    "    for i in range (len(l)):\n",
    "        s[i] += l[i]\n",
    "    for j in range (len(m)):\n",
    "        s[j] += m[j]\n",
    "    for k in range (len(n)):\n",
    "        s[k] += n[k]\n",
    "    return s\n",
    "\n",
    "print (Q6([3, 1, 3, 5],[1, 4, 8],[1,1,2]))"
   ]
  },
  {
   "cell_type": "code",
   "execution_count": 121,
   "metadata": {},
   "outputs": [
    {
     "name": "stdout",
     "output_type": "stream",
     "text": [
      "[0, 1, 0, 1, 1]\n"
     ]
    }
   ],
   "source": [
    "def Q22(l, a):\n",
    "    s = []\n",
    "    for i in l:\n",
    "        if i >= a:\n",
    "            s.append(1)\n",
    "        else:\n",
    "            s.append(0)\n",
    "    return s\n",
    "\n",
    "print (Q7([3,10,4,71,7], 5))"
   ]
  },
  {
   "cell_type": "markdown",
   "metadata": {},
   "source": [
    "# Dictionary"
   ]
  },
  {
   "cell_type": "markdown",
   "metadata": {},
   "source": [
    "The Hash data structure is known as dictionary in Python. A dictionary maps keys to values. Let us see an example."
   ]
  },
  {
   "cell_type": "code",
   "execution_count": 89,
   "metadata": {},
   "outputs": [
    {
     "data": {
      "text/plain": [
       "{'India': 'New Delhi', 'United States': 'Washington, D.C.', 'Japan': 'Tokyo'}"
      ]
     },
     "execution_count": 89,
     "metadata": {},
     "output_type": "execute_result"
    }
   ],
   "source": [
    "h = {} # Empty dictionary\n",
    "h['India'] = 'New Delhi'\n",
    "h['United States'] = 'Washington, D.C.'\n",
    "h['Japan'] = 'Tokyo'\n",
    "\n",
    "h"
   ]
  },
  {
   "cell_type": "code",
   "execution_count": 90,
   "metadata": {},
   "outputs": [
    {
     "name": "stdout",
     "output_type": "stream",
     "text": [
      "Capital of India is New Delhi\n",
      "Capital of United States is Washington, D.C.\n",
      "Capital of Japan is Tokyo\n"
     ]
    }
   ],
   "source": [
    "# Let us print the dictionary in a nicer way\n",
    "for k in h:\n",
    "    print(\"Capital of\", k, \"is\", h[k])"
   ]
  },
  {
   "cell_type": "markdown",
   "metadata": {},
   "source": [
    "Keys can be any *immutable* data types, like integers, strings etc. Next we will see a dictionary with integers and strings as keys."
   ]
  },
  {
   "cell_type": "code",
   "execution_count": 91,
   "metadata": {},
   "outputs": [],
   "source": [
    "h2 = {}\n",
    "h2[123] = 10\n",
    "h2[89] = 'eighty nine'\n",
    "h2['one two three'] = 123"
   ]
  },
  {
   "cell_type": "code",
   "execution_count": 92,
   "metadata": {},
   "outputs": [
    {
     "name": "stdout",
     "output_type": "stream",
     "text": [
      "{123: 10, 89: 'eighty nine', 'one two three': 123}\n"
     ]
    }
   ],
   "source": [
    "print(h2)"
   ]
  },
  {
   "cell_type": "markdown",
   "metadata": {},
   "source": [
    "As you can see, the keys (and values) can be of different types. The same is the case with Lists."
   ]
  },
  {
   "cell_type": "code",
   "execution_count": 94,
   "metadata": {},
   "outputs": [
    {
     "name": "stdout",
     "output_type": "stream",
     "text": [
      "['one', 2, 'three']\n"
     ]
    }
   ],
   "source": [
    "onelist = ['one', 2, 'three']\n",
    "print(onelist)"
   ]
  },
  {
   "cell_type": "markdown",
   "metadata": {},
   "source": [
    "The values of a dictionary can be *mutable*. "
   ]
  },
  {
   "cell_type": "code",
   "execution_count": 95,
   "metadata": {},
   "outputs": [
    {
     "name": "stdout",
     "output_type": "stream",
     "text": [
      "{'one': [], 'two': [5, 8], 'three': 'three'}\n"
     ]
    }
   ],
   "source": [
    "h3 = {}\n",
    "h3['one'] = []\n",
    "h3['two'] = [5, 8]\n",
    "h3['three'] = 'three'\n",
    "\n",
    "print(h3)"
   ]
  },
  {
   "cell_type": "code",
   "execution_count": 96,
   "metadata": {},
   "outputs": [
    {
     "name": "stdout",
     "output_type": "stream",
     "text": [
      "{'one': [15], 'two': [5, 8], 'three': 'three'}\n"
     ]
    }
   ],
   "source": [
    "h3['one'].append(15)\n",
    "print(h3)"
   ]
  },
  {
   "cell_type": "markdown",
   "metadata": {},
   "source": [
    "Try evaluating the following code:"
   ]
  },
  {
   "cell_type": "code",
   "execution_count": null,
   "metadata": {},
   "outputs": [],
   "source": [
    "h3['four']"
   ]
  },
  {
   "cell_type": "markdown",
   "metadata": {},
   "source": [
    "To avoid this error occurred above, we can first check if a key is present in the dictionary."
   ]
  },
  {
   "cell_type": "code",
   "execution_count": 97,
   "metadata": {},
   "outputs": [],
   "source": [
    "if 'four' in h3:\n",
    "    print(h3['four'])"
   ]
  },
  {
   "cell_type": "code",
   "execution_count": 98,
   "metadata": {},
   "outputs": [
    {
     "name": "stdout",
     "output_type": "stream",
     "text": [
      "[5, 8]\n"
     ]
    }
   ],
   "source": [
    "if 'two' in h3:\n",
    "    print(h3['two'])"
   ]
  },
  {
   "cell_type": "markdown",
   "metadata": {},
   "source": [
    "### Questions\n",
    "23) Write a function which accepts a number $n$ and returns a hash which maps integers from $1$ to $n$ to their squares.\n",
    "\n",
    "24) Write a function which accepts a list of strings and returns a dictionary mapping each string to its length. (To compute the length of a string, use the len function)\n",
    "\n",
    "25) Write a function which takes a list as input and returns a dictionary mapping each list element into the number of times the element appears in the list. For example, if the input list is $[1, 2, 1, 3, 2, 5, 1]$, the dictionary should map $1$ to $3$, $2$ to $2$, $3$ to $1$ and $5$ to $1$."
   ]
  },
  {
   "cell_type": "code",
   "execution_count": 99,
   "metadata": {},
   "outputs": [
    {
     "name": "stdout",
     "output_type": "stream",
     "text": [
      "{1: 1, 2: 4, 3: 9, 4: 16, 5: 25}\n"
     ]
    }
   ],
   "source": [
    "# Q23\n",
    "def Q23(n):\n",
    "    h5 = {}\n",
    "    for i in range (1,n+1):\n",
    "        h5[i] = i**2\n",
    "        \n",
    "    return h5\n",
    "print (Q11(5))"
   ]
  },
  {
   "cell_type": "code",
   "execution_count": 100,
   "metadata": {},
   "outputs": [
    {
     "data": {
      "text/plain": [
       "{'one': 3, 'two': 3, 'three': 5, 'eleven': 6}"
      ]
     },
     "execution_count": 100,
     "metadata": {},
     "output_type": "execute_result"
    }
   ],
   "source": [
    "# Q24\n",
    "def Q24(n):\n",
    "    h6 = {}\n",
    "    for i,k in enumerate (n):\n",
    "        h6[k] = len(k)\n",
    "        \n",
    "    return h6\n",
    "\n",
    "Q12(['one', 'two', 'three', 'eleven'])"
   ]
  },
  {
   "cell_type": "code",
   "execution_count": 122,
   "metadata": {},
   "outputs": [
    {
     "data": {
      "text/plain": [
       "{'1': 3, '2': 2, '3': 1, '5': 1}"
      ]
     },
     "execution_count": 122,
     "metadata": {},
     "output_type": "execute_result"
    }
   ],
   "source": [
    "# Q25\n",
    "def Q25(n):\n",
    "    h7 = {}\n",
    "    for j, k in enumerate (n):\n",
    "        c = 0\n",
    "        for i, l in enumerate (n):\n",
    "            if k == l: \n",
    "                c += 1\n",
    "                h7[k] = c\n",
    "        \n",
    "    return h7\n",
    "\n",
    "Q12(['1','2','1','3','2','5','1'])"
   ]
  },
  {
   "cell_type": "code",
   "execution_count": null,
   "metadata": {},
   "outputs": [],
   "source": []
  },
  {
   "cell_type": "markdown",
   "metadata": {},
   "source": [
    "# Plotting "
   ]
  },
  {
   "cell_type": "code",
   "execution_count": 102,
   "metadata": {},
   "outputs": [],
   "source": [
    "# This library is necessary for plotting in Python\n",
    "import matplotlib.pyplot as plt\n",
    "\n",
    "# For trignometric and other mathematical functions, we can use the math library.\n",
    "import math # math.sin for sin, math.cos for cos etc.\n"
   ]
  },
  {
   "cell_type": "code",
   "execution_count": 103,
   "metadata": {},
   "outputs": [
    {
     "data": {
      "text/plain": [
       "[<matplotlib.lines.Line2D at 0x2ad19328240>]"
      ]
     },
     "execution_count": 103,
     "metadata": {},
     "output_type": "execute_result"
    },
    {
     "data": {
      "image/png": "[encoded data removed]",
      "text/plain": [
       "<Figure size 432x288 with 1 Axes>"
      ]
     },
     "metadata": {
      "needs_background": "light"
     },
     "output_type": "display_data"
    }
   ],
   "source": [
    "# Now let us create a graph for y = x^2. \n",
    "\n",
    "x = []\n",
    "y = []\n",
    "for i in range(-200, 200):\n",
    "    num = i/100\n",
    "    x.append(num)\n",
    "    y.append(num * num)\n",
    "\n",
    "plt.plot(x, y)\n"
   ]
  },
  {
   "cell_type": "markdown",
   "metadata": {},
   "source": [
    "### Questions\n",
    "26) Plot the exponential, sin, cos and tan functions.\n",
    "\n",
    "27) Plot the functions $y = x^2 + x - 3$ and $y = x^3 - 10x^2 - x + 12$\n"
   ]
  },
  {
   "cell_type": "code",
   "execution_count": 115,
   "metadata": {},
   "outputs": [
    {
     "data": {
      "text/plain": [
       "[<matplotlib.lines.Line2D at 0x2ad1963a748>]"
      ]
     },
     "execution_count": 115,
     "metadata": {},
     "output_type": "execute_result"
    },
    {
     "data": {
      "image/png": "[encoded data removed]",
      "text/plain": [
       "<Figure size 432x288 with 1 Axes>"
      ]
     },
     "metadata": {
      "needs_background": "light"
     },
     "output_type": "display_data"
    }
   ],
   "source": [
    "# Q26\n",
    "a = []\n",
    "s = []\n",
    "for i in range(-360,360):\n",
    "    n= math.sin (i * math.pi/180) #'math.pi/180' is to convert into radians\n",
    "    a.append(i)\n",
    "    s.append(n)\n",
    "    \n",
    "plt.plot(a,s)\n",
    "\n",
    "#Do the same for 'cos' and 'tan' by yourselves"
   ]
  },
  {
   "cell_type": "code",
   "execution_count": 116,
   "metadata": {},
   "outputs": [
    {
     "data": {
      "text/plain": [
       "[<matplotlib.lines.Line2D at 0x2ad19761d30>]"
      ]
     },
     "execution_count": 116,
     "metadata": {},
     "output_type": "execute_result"
    },
    {
     "data": {
      "image/png": "[encoded data removed]",
      "text/plain": [
       "<Figure size 432x288 with 1 Axes>"
      ]
     },
     "metadata": {
      "needs_background": "light"
     },
     "output_type": "display_data"
    }
   ],
   "source": [
    "#For exponential function\n",
    "a = []\n",
    "b = []\n",
    "for i in range(-360,360):\n",
    "    n= math.exp (i * 0.0174533)\n",
    "    a.append(i)\n",
    "    b.append(n)\n",
    "plt.plot(a, b)"
   ]
  },
  {
   "cell_type": "code",
   "execution_count": 123,
   "metadata": {},
   "outputs": [
    {
     "data": {
      "image/png": "[encoded data removed]",
      "text/plain": [
       "<Figure size 432x288 with 1 Axes>"
      ]
     },
     "metadata": {
      "needs_background": "light"
     },
     "output_type": "display_data"
    }
   ],
   "source": [
    "# Q27\n",
    "l = []\n",
    "j = []\n",
    "k = []\n",
    "for i in range(-200, 200):\n",
    "    n = i/100\n",
    "    l.append(n)\n",
    "    j.append((n**2) + n - 3)\n",
    "    k.append((n**3) - ((n**2)*10) - n + 12)\n",
    "        \n",
    "import matplotlib.pyplot as plt\n",
    "plt.plot(l, j)\n",
    "plt.plot(l, k)\n",
    "plt.show()"
   ]
  },
  {
   "cell_type": "code",
   "execution_count": null,
   "metadata": {},
   "outputs": [],
   "source": []
  }
 ],
 "metadata": {
  "kernelspec": {
   "display_name": "Python 3",
   "language": "python",
   "name": "python3"
  },
  "language_info": {
   "codemirror_mode": {
    "name": "ipython",
    "version": 3
   },
   "file_extension": ".py",
   "mimetype": "text/x-python",
   "name": "python",
   "nbconvert_exporter": "python",
   "pygments_lexer": "ipython3",
   "version": "3.7.3"
  }
 },
 "nbformat": 4,
 "nbformat_minor": 2
}
