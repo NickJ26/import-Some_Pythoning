{
 "cells": [
  {
   "cell_type": "markdown",
   "metadata": {},
   "source": [
    "The bubble sort in python is given below (adapted from the pseudo-code given in wikipedia):"
   ]
  },
  {
   "cell_type": "code",
   "execution_count": 1,
   "metadata": {},
   "outputs": [],
   "source": [
    "def bubble_sort(alist):\n",
    "    n = len(alist)\n",
    "    swapped = True\n",
    "    while swapped:\n",
    "        swapped = False\n",
    "        for i in range(1, n):\n",
    "            if alist[i-1] > alist[i]:\n",
    "                # swap the (i-1)th and the ith elements\n",
    "                alist[i-1], alist[i] = alist[i], alist[i-1]\n",
    "                swapped = True\n",
    "    return alist"
   ]
  },
  {
   "cell_type": "code",
   "execution_count": 2,
   "metadata": {},
   "outputs": [
    {
     "name": "stdout",
     "output_type": "stream",
     "text": [
      "[1, 1, 1, 2, 3, 5, 7, 8, 10]\n"
     ]
    }
   ],
   "source": [
    "print(bubble_sort([1, 3, 1, 5, 7, 2, 1, 10, 8]))"
   ]
  },
  {
   "cell_type": "markdown",
   "metadata": {},
   "source": [
    "We can count the total number of comparisons and the total number swapps by using global variables and functions as follows."
   ]
  },
  {
   "cell_type": "code",
   "execution_count": 3,
   "metadata": {},
   "outputs": [],
   "source": [
    "num_swaps = 0\n",
    "num_compares = 0\n",
    "\n",
    "def greater_than(m, n):\n",
    "    global num_compares\n",
    "    num_compares += 1\n",
    "    return m > n\n",
    "\n",
    "def swap(a, i, j):\n",
    "    global num_swaps\n",
    "    num_swaps += 1\n",
    "    a[i], a[j] = a[j], a[i]\n",
    "    return a\n",
    "\n",
    "def bubble_sort_count(alist):\n",
    "    global num_swaps\n",
    "    global num_compares\n",
    "    \n",
    "    num_swaps = 0\n",
    "    num_compares = 0\n",
    "    \n",
    "    n = len(alist)\n",
    "    swapped = True\n",
    "    while swapped:\n",
    "        swapped = False\n",
    "        for i in range(1, n):\n",
    "            if greater_than(alist[i-1], alist[i]):\n",
    "                # swap the (i-1)th and the ith elements\n",
    "                swap(alist, i-1, i)\n",
    "                swapped = True\n",
    "    print(\"Comparisons = \", num_compares, \"Swaps = \", num_swaps)\n",
    "    return alist"
   ]
  },
  {
   "cell_type": "code",
   "execution_count": 4,
   "metadata": {},
   "outputs": [
    {
     "name": "stdout",
     "output_type": "stream",
     "text": [
      "Comparisons =  48 Swaps =  11\n",
      "[1, 1, 2, 3, 5, 6.5, 7, 8, 10]\n"
     ]
    }
   ],
   "source": [
    "ls = [1, 3, 6.5, 5, 7, 2, 1, 10, 8]\n",
    "bubble_sort_count(ls)\n",
    "print(ls)"
   ]
  },
  {
   "cell_type": "code",
   "execution_count": null,
   "metadata": {},
   "outputs": [],
   "source": []
  }
 ],
 "metadata": {
  "kernelspec": {
   "display_name": "Python 3",
   "language": "python",
   "name": "python3"
  },
  "language_info": {
   "codemirror_mode": {
    "name": "ipython",
    "version": 3
   },
   "file_extension": ".py",
   "mimetype": "text/x-python",
   "name": "python",
   "nbconvert_exporter": "python",
   "pygments_lexer": "ipython3",
   "version": "3.7.3"
  }
 },
 "nbformat": 4,
 "nbformat_minor": 2
}
